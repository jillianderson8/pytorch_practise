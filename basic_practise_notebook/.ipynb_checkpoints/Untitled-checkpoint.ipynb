{
 "cells": [
  {
   "cell_type": "code",
   "execution_count": 8,
   "metadata": {},
   "outputs": [
    {
     "name": "stdout",
     "output_type": "stream",
     "text": [
      "-12\n",
      "144\n"
     ]
    }
   ],
   "source": [
    "# this is used to do the bp practise\n",
    "# set some inputs\n",
    "x = -2; y = 5; z = -4\n",
    "target = 0\n",
    "\n",
    "# perform the forward pass\n",
    "q = x + y # q becomes 3\n",
    "f = q * z # f becomes -12\n",
    "\n",
    "\n",
    "print(f)\n",
    "loss = (target-f)**2\n",
    "print(loss)\n",
    "\n",
    "\n",
    "dfdz = q # df/dz = q, so gradient on z becomes 3\n",
    "dfdq = z # df/dq = z, so gradient on q becomes -4\n",
    "dqdx = 1.0\n",
    "dqdy = 1.0\n",
    "dLdf = 2*(f-target)\n",
    "\n",
    "dLdx = dLdf*dfdq*dqdx\n",
    "dLdy = dLdf*dfdq*dqdy\n",
    "dLdz = dLdf*dfdz\n",
    "\n",
    "# now backprop through q = x + y\n",
    "#dfdx = 1.0 * dfdq # dq/dx = 1. And the multiplication here is the chain rule!\n",
    "#dfdy = 1.0 * dfdq # dq/dy = 1\n",
    "\n"
   ]
  },
  {
   "cell_type": "code",
   "execution_count": null,
   "metadata": {},
   "outputs": [],
   "source": []
  }
 ],
 "metadata": {
  "kernelspec": {
   "display_name": "Python 3",
   "language": "python",
   "name": "python3"
  },
  "language_info": {
   "codemirror_mode": {
    "name": "ipython",
    "version": 3
   },
   "file_extension": ".py",
   "mimetype": "text/x-python",
   "name": "python",
   "nbconvert_exporter": "python",
   "pygments_lexer": "ipython3",
   "version": "3.6.4"
  }
 },
 "nbformat": 4,
 "nbformat_minor": 2
}
