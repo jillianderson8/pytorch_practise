{
 "cells": [
  {
   "cell_type": "code",
   "execution_count": 32,
   "metadata": {},
   "outputs": [
    {
     "data": {
      "image/png": "[encoded data removed]",
      "text/plain": [
       "<matplotlib.figure.Figure at 0x11832ddd8>"
      ]
     },
     "metadata": {},
     "output_type": "display_data"
    },
    {
     "data": {
      "image/png": "[encoded data removed]",
      "text/plain": [
       "<matplotlib.figure.Figure at 0x10f0b9198>"
      ]
     },
     "metadata": {},
     "output_type": "display_data"
    }
   ],
   "source": [
    "%matplotlib inline\n",
    "# this is used to do the bp practise\n",
    "# set some inputs\n",
    "import matplotlib.pyplot as plt\n",
    "x = -9; y = 5; z = -4\n",
    "target = 5\n",
    "learning_rate = 0.001\n",
    "\n",
    "f_history, loss_history =[],[]\n",
    "for i in range(100):\n",
    "    # perform the forward pass\n",
    "    q = x + y # q becomes 3\n",
    "    f = q * z # f becomes -12\n",
    "\n",
    "\n",
    "    \n",
    "    loss = (f-target)**2\n",
    "    f_history.append(f)\n",
    "    loss_history.append(loss)\n",
    "    #print(\"x,y,z:\",x,y, z)\n",
    "    #print(\"f:\" ,f)\n",
    "    #print(\"loss\",loss)\n",
    "\n",
    "\n",
    "    # perform the backward pass\n",
    "    dLdf = 2*(f-target)\n",
    "    dfdz = q # df/dz = q, so gradient on z becomes 3\n",
    "    dfdq = z # df/dq = z, so gradient on q becomes -4\n",
    "    dqdx = 1.0\n",
    "    dqdy = 1.0\n",
    "\n",
    "\n",
    "    dLdx = dLdf*dfdq*dqdx\n",
    "    dLdy = dLdf*dfdq*dqdy\n",
    "    dLdz = dLdf*dfdz\n",
    "\n",
    "\n",
    "    x -=  learning_rate*dLdx\n",
    "    y -=  learning_rate*dLdy\n",
    "    z -=  learning_rate*dLdz\n",
    "plt.scatter(range(len(f_history)),f_history)\n",
    "plt.show()\n",
    "plt.close()\n",
    "plt.scatter(range(len(f_history)),loss_history)\n",
    "plt.show()\n",
    "plt.close()\n"
   ]
  },
  {
   "cell_type": "code",
   "execution_count": null,
   "metadata": {},
   "outputs": [],
   "source": []
  }
 ],
 "metadata": {
  "kernelspec": {
   "display_name": "Python 3",
   "language": "python",
   "name": "python3"
  },
  "language_info": {
   "codemirror_mode": {
    "name": "ipython",
    "version": 3
   },
   "file_extension": ".py",
   "mimetype": "text/x-python",
   "name": "python",
   "nbconvert_exporter": "python",
   "pygments_lexer": "ipython3",
   "version": "3.6.4"
  }
 },
 "nbformat": 4,
 "nbformat_minor": 2
}
