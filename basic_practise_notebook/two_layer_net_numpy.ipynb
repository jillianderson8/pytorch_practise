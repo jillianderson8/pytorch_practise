{
 "cells": [
  {
   "cell_type": "code",
   "execution_count": 1,
   "metadata": {},
   "outputs": [],
   "source": [
    "%matplotlib inline"
   ]
  },
  {
   "cell_type": "markdown",
   "metadata": {},
   "source": [
    "\n",
    "Warm-up: numpy\n",
    "--------------\n",
    "\n",
    "A fully-connected ReLU network with one hidden layer and no biases, trained to\n",
    "predict y from x using Euclidean error.\n",
    "\n",
    "This implementation uses numpy to manually compute the forward pass, loss, and\n",
    "backward pass.\n",
    "\n",
    "A numpy array is a generic n-dimensional array; it does not know anything about\n",
    "deep learning or gradients or computational graphs, and is just a way to perform\n",
    "generic numeric computations.\n",
    "\n"
   ]
  },
  {
   "cell_type": "code",
   "execution_count": 3,
   "metadata": {},
   "outputs": [
    {
     "name": "stdout",
     "output_type": "stream",
     "text": [
      "0 26745629.198\n",
      "1 20126949.3262\n"
     ]
    }
   ],
   "source": [
    "import numpy as np\n",
    "\n",
    "# N is batch size; D_in is input dimension;\n",
    "# H is hidden dimension; D_out is output dimension.\n",
    "N, D_in, H, D_out = 64, 1000, 100, 10\n",
    "\n",
    "# Create random input and output data\n",
    "x = np.random.randn(N, D_in)\n",
    "y = np.random.randn(N, D_out)\n",
    "\n",
    "# Randomly initialize weights\n",
    "w1 = np.random.randn(D_in, H)\n",
    "w2 = np.random.randn(H, D_out)\n",
    "\n",
    "learning_rate = 1e-6\n",
    "for t in range(2):\n",
    "    # Forward pass: compute predicted y\n",
    "    h = x.dot(w1)\n",
    "    h_relu = np.maximum(h, 0)\n",
    "    y_pred = h_relu.dot(w2)\n",
    "\n",
    "    # Compute and print loss\n",
    "    loss = np.square(y_pred - y).sum()\n",
    "    print(t, loss)\n",
    "\n",
    "    # Backprop to compute gradients of w1 and w2 with respect to loss\n",
    "    grad_y_pred = 2.0 * (y_pred - y)\n",
    "    grad_w2 = h_relu.T.dot(grad_y_pred)\n",
    "    grad_h_relu = grad_y_pred.dot(w2.T)\n",
    "    grad_h = grad_h_relu.copy()\n",
    "    grad_h[h < 0] = 0\n",
    "    grad_w1 = x.T.dot(grad_h)\n",
    "\n",
    "    # Update weights\n",
    "    w1 -= learning_rate * grad_w1\n",
    "    w2 -= learning_rate * grad_w2"
   ]
  },
  {
   "cell_type": "code",
   "execution_count": 8,
   "metadata": {},
   "outputs": [
    {
     "name": "stdout",
     "output_type": "stream",
     "text": [
      "[[ 0.11775788  0.23780472 -1.02606852  1.00063258  1.00039596  0.31268485\n",
      "  -1.75148429  0.69984025  0.88554264 -0.6793946 ]\n",
      " [-0.34425306 -1.08798413  2.23359899 -1.7940647  -0.4537034   0.48559513\n",
      "   0.76120268  0.24791524 -0.62999207  0.05294884]]\n",
      "[[-0.89098639 -0.26546819]\n",
      " [-1.27465242 -0.34272358]]\n",
      "[[-1.14892994  0.23121612  1.08752472  1.01325244  0.1914233  -1.20131496\n",
      "  -1.23316885 -1.04501256  0.51408315  0.65159334]\n",
      " [-0.37446678  0.85676305 -1.33048715  0.61041294 -1.41323425  0.24104083\n",
      "  -1.50678513 -0.63667013  2.34743816  0.07828749]\n",
      " [ 1.32360918  1.24167997 -0.6078787   1.42931597 -1.40036564 -1.35517548\n",
      "   0.30962952 -0.50656    -0.70602446  0.52550044]\n",
      " [-1.52214646  1.03204344 -1.01298744 -0.78511719  0.08670349 -0.26090849\n",
      "   0.20108174  1.9696811  -0.12814443 -0.12927743]\n",
      " [-0.01302479 -0.22216839 -0.94538482  0.61198803 -1.06512162  0.83342853\n",
      "   0.60841652  1.03044665 -1.30749622  0.18137457]\n",
      " [-1.75438103  0.11069258 -1.85254437  0.01231894  0.1912688   1.5930202\n",
      "   0.15051555 -0.12992342  0.34889193  0.10905758]\n",
      " [ 0.12279687  0.41609641 -0.01987343 -1.10373677  0.66209675  1.45012168\n",
      "  -1.46370733  0.44738268 -0.42496946 -0.4845982 ]\n",
      " [ 1.08094618  1.09786768  0.1745828   0.30624787 -1.4017984  -0.11116145\n",
      "   1.77438723  1.09870675  0.57463144 -1.23452907]\n",
      " [-0.70322378  0.60400676 -0.47203775  1.75881324 -0.70831578 -0.24754007\n",
      "   0.19065685 -1.69769223  0.42513626 -2.13930503]\n",
      " [ 2.59617084 -0.67363597  1.76766494 -0.29684503 -0.61222718  1.15902067\n",
      "  -0.36933701 -0.81443607  0.34056477 -1.35716812]]\n",
      "(2, 10) (10, 10) (2, 10)\n",
      "0 108.955123419\n",
      "(2, 10) (10, 10) (2, 10)\n",
      "1 108.922698153\n"
     ]
    }
   ],
   "source": [
    "import numpy as np\n",
    "\n",
    "# N is batch size; D_in is input dimension;\n",
    "# H is hidden dimension; D_out is output dimension.\n",
    "N, D_in, H, D_out = 2, 10, 10, 2\n",
    "\n",
    "# Create random input and output data\n",
    "x = np.random.randn(N, D_in)\n",
    "print(x)\n",
    "y = np.random.randn(N, D_out)\n",
    "print(y)\n",
    "# Randomly initialize weights\n",
    "w1 = np.random.randn(D_in, H)\n",
    "print(w1)\n",
    "w2 = np.random.randn(H, D_out)\n",
    "\n",
    "learning_rate = 1e-6\n",
    "for t in range(2):\n",
    "    # Forward pass: compute predicted y\n",
    "    h = x.dot(w1)\n",
    "    print(x.shape,w1.shape,h.shape)\n",
    "    h_relu = np.maximum(h, 0)\n",
    "    y_pred = h_relu.dot(w2)\n",
    "\n",
    "    # Compute and print loss\n",
    "    loss = np.square(y_pred - y).sum()\n",
    "    print(t, loss)\n",
    "\n",
    "    # Backprop to compute gradients of w1 and w2 with respect to loss\n",
    "    grad_y_pred = 2.0 * (y_pred - y)\n",
    "    grad_w2 = h_relu.T.dot(grad_y_pred)\n",
    "    grad_h_relu = grad_y_pred.dot(w2.T)\n",
    "    grad_h = grad_h_relu.copy()\n",
    "    grad_h[h < 0] = 0\n",
    "    grad_w1 = x.T.dot(grad_h)\n",
    "\n",
    "    # Update weights\n",
    "    w1 -= learning_rate * grad_w1\n",
    "    w2 -= learning_rate * grad_w2"
   ]
  },
  {
   "cell_type": "code",
   "execution_count": 16,
   "metadata": {},
   "outputs": [
    {
     "name": "stdout",
     "output_type": "stream",
     "text": [
      "[[ 0.32542228 -0.67337973  0.73552769]\n",
      " [ 1.08543382  1.9117296  -0.3103033 ]]\n",
      "[[ 0.63589227  0.62559243  0.42424098]\n",
      " [ 0.52668423 -0.44175642  1.49488721]\n",
      " [-1.61439249 -1.11604034 -1.81831939]]\n",
      "[[ 0.  0.  0.]\n",
      " [ 0.  0.  0.]]\n",
      "[[-1.33515536 -0.31982704 -2.20599355]\n",
      " [ 2.19804812  0.18083135  3.88253613]]\n",
      "[[-1.33515536 -0.31982704 -2.20599355]\n",
      " [ 2.19804812  0.18083135  3.88253613]]\n"
     ]
    }
   ],
   "source": [
    "x = np.random.randn(2,3)\n",
    "w = np.random.randn(3,3)\n",
    "print(x)\n",
    "print(w)\n",
    "y = np.zeros((2,3))\n",
    "print(y)\n",
    "for i in range(2):\n",
    "    for j in range(3):\n",
    "        for k in range(3):\n",
    "            y[i,j] += x[i,k]*w[k,j]\n",
    "print(y)\n",
    "print(x.dot(w))\n",
    "        "
   ]
  },
  {
   "cell_type": "code",
   "execution_count": null,
   "metadata": {},
   "outputs": [],
   "source": []
  }
 ],
 "metadata": {
  "kernelspec": {
   "display_name": "Python 3",
   "language": "python",
   "name": "python3"
  },
  "language_info": {
   "codemirror_mode": {
    "name": "ipython",
    "version": 3
   },
   "file_extension": ".py",
   "mimetype": "text/x-python",
   "name": "python",
   "nbconvert_exporter": "python",
   "pygments_lexer": "ipython3",
   "version": "3.6.4"
  }
 },
 "nbformat": 4,
 "nbformat_minor": 1
}
